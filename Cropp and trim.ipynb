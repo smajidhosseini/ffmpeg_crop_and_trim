{
 "cells": [
  {
   "cell_type": "code",
   "execution_count": 1,
   "id": "d5221633-4d1f-4f08-abb7-1955048ea96b",
   "metadata": {},
   "outputs": [],
   "source": [
    "# import libraries\n",
    "import ffmpeg"
   ]
  },
  {
   "cell_type": "code",
   "execution_count": 2,
   "id": "fd3afd61-cc33-41cc-86b3-7ea160e7b587",
   "metadata": {},
   "outputs": [],
   "source": [
    "#import video file\n",
    "main_video = ffmpeg.input('2021-08-09 15-21-34.mkv')"
   ]
  },
  {
   "cell_type": "code",
   "execution_count": null,
   "id": "f6e7710c-f8ea-43b9-985f-87d07e19dc0c",
   "metadata": {},
   "outputs": [],
   "source": [
    "#start and endtime lists\n",
    "strt = ['0:09:35','0:22:57','0:38:31','0:49:35','1:00:21','1:13:37','1:25:37','1:38:10']\n",
    "end  = ['0:19:44','0:33:12','0:46:15','0:59:30','1:10:26','1:23:52','1:35:30','1:48:30']\n",
    "\n",
    "for i in range (8):\n",
    "    #trim the video using start and endtime\n",
    "    ffmpeg.output(main_video.video.filter('trim', start = strt[i], end = end[i]), f'V{i+1}.mkv').run()\n",
    "    # another way # No need to use the upper block\n",
    "    #ffmpeg.output(ffmpeg.input('2021-08-09 15-21-34.mkv').video.filter('trim', start = strt[i], end = end[i]), f'V{i+1}.mkv').run()    #No need to use block 2 "
   ]
  },
  {
   "cell_type": "code",
   "execution_count": null,
   "id": "36e6f6cf-248a-4728-9f7a-8b353f3ae353",
   "metadata": {},
   "outputs": [],
   "source": [
    "#crop the videos\n",
    "for i in range (8):\n",
    "    # crop video using width = 2250, hight = 1500, top left corener position x = 3150, top left corner position y = 230 \n",
    "    ffmpeg.output(ffmpeg.input(f'V{i+1}.mkv').video.filter('crop', 2550, 1500, 3150, 230),'cropped_V{i}.mkv').run()"
   ]
  }
 ],
 "metadata": {
  "kernelspec": {
   "display_name": "Python 3",
   "language": "python",
   "name": "python3"
  },
  "language_info": {
   "codemirror_mode": {
    "name": "ipython",
    "version": 3
   },
   "file_extension": ".py",
   "mimetype": "text/x-python",
   "name": "python",
   "nbconvert_exporter": "python",
   "pygments_lexer": "ipython3",
   "version": "3.9.6"
  }
 },
 "nbformat": 4,
 "nbformat_minor": 5
}
